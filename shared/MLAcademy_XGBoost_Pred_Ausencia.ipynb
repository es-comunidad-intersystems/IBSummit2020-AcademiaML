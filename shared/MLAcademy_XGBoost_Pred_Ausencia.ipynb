{
 "cells": [
  {
   "cell_type": "markdown",
   "metadata": {},
   "source": [
    "<H1>Predicción de Ausencia de Paciente a su Cita Medica </H1>\n",
    "\n",
    "<H2>Comparación de distintas caracteristicas y Algoritmos (XGBoost)</H2>\n",
    "\n",
    "El ejemplo esta basado en 100 000 Citas medicas de una región (Vitória, Espírito Santo) de Brazil.\n",
    "En base a caracteristicas demograficas, sociales y de enfermedades cronicas del paciente, se intenta determinar su presencia/ausencia en la cita programada.\n",
    "\n",
    "En este ejemplo se comparan lo resultados obtenidos previamente con otro algoritmo:\n",
    "<ul>\n",
    "    <li><em>ABT con 11 caracteristicas y Regression Logistica</em></li>\n",
    "    <li><em>ABT con 110 caracteristicas y Regression Logistica</em></li>\n",
    "    <li><em>ABT con 11 caracteristicas y XGBoost</em></li>\n",
    "</ul>\n"
   ]
  },
  {
   "cell_type": "markdown",
   "metadata": {},
   "source": [
    "<H2>Carga de Librerias Python</H2>"
   ]
  },
  {
   "cell_type": "code",
   "execution_count": 1,
   "metadata": {},
   "outputs": [
    {
     "name": "stderr",
     "output_type": "stream",
     "text": [
      "/usr/local/lib/python3.6/dist-packages/sklearn/utils/deprecation.py:144: FutureWarning: The sklearn.feature_selection.base module is  deprecated in version 0.22 and will be removed in version 0.24. The corresponding classes / functions should instead be imported from sklearn.feature_selection. Anything that cannot be imported from sklearn.feature_selection is now part of the private API.\n",
      "  warnings.warn(message, FutureWarning)\n"
     ]
    }
   ],
   "source": [
    "#Carga inicial de librerias imprescindibles\n",
    "\n",
    "import pandas as pd\n",
    "import numpy as np\n",
    "import matplotlib.pyplot as plt\n",
    "\n",
    "#import seaborn as sns\n",
    "#sns.set(style=\"whitegrid\", color_codes=True)\n",
    "%matplotlib inline\n",
    "\n",
    "#ML imports\n",
    "from sklearn.model_selection import train_test_split\n",
    "from sklearn.linear_model import LogisticRegressionCV\n",
    "\n",
    "#Pipeline needed for PMML Export\n",
    "from sklearn.pipeline import Pipeline\n",
    "from sklearn2pmml import PMMLPipeline\n",
    "from sklearn2pmml import make_pmml_pipeline\n",
    "from sklearn2pmml import sklearn2pmml\n",
    "\n",
    "\n",
    "from sklearn import metrics\n",
    "from sklearn.metrics import roc_curve\n",
    "#from sklearn.model_selection import KFold\n",
    "from sklearn.model_selection import cross_val_score\n",
    "from sklearn.model_selection import cross_val_predict\n",
    "from sklearn.metrics import recall_score\n",
    "from sklearn.metrics import accuracy_score\n",
    "\n",
    "from xgboost import XGBClassifier"
   ]
  },
  {
   "cell_type": "markdown",
   "metadata": {},
   "source": [
    "<H2>Carga de datos a Pandas Dataframes</H2>"
   ]
  },
  {
   "cell_type": "code",
   "execution_count": 2,
   "metadata": {},
   "outputs": [],
   "source": [
    "#Connexión jdbc para este ejemplo\n",
    "import jaydebeapi"
   ]
  },
  {
   "cell_type": "code",
   "execution_count": 3,
   "metadata": {},
   "outputs": [],
   "source": [
    "cxn=jaydebeapi.connect(\"com.intersystems.jdbc.IRISDriver\",\"jdbc:IRIS://iris4ml:51773/MLACADEMY\",  [\"SuperUser\", \"sys\"], \"/usr/local/lib/intersystems/intersystems-jdbc-3.1.0.jar\")\n",
    "dataSimple=pd.read_sql('select top 20000 * from PublishedABT.MLSimpleAppointmentsGetfeatures()',cxn)\n",
    "cxn.close()"
   ]
  },
  {
   "cell_type": "code",
   "execution_count": 4,
   "metadata": {},
   "outputs": [],
   "source": [
    "cxn=jaydebeapi.connect(\"com.intersystems.jdbc.IRISDriver\",\"jdbc:IRIS://iris4ml:51773/MLACADEMY\",  [\"SuperUser\", \"sys\"], \"/usr/local/lib/intersystems/intersystems-jdbc-3.1.0.jar\")\n",
    "dataLarge=pd.read_sql('select top 1000 * from PublishedABT.MLAppointmentsGetfeatures()',cxn)\n",
    "cxn.close()"
   ]
  },
  {
   "cell_type": "code",
   "execution_count": 5,
   "metadata": {},
   "outputs": [
    {
     "data": {
      "text/html": [
       "<div>\n",
       "<style scoped>\n",
       "    .dataframe tbody tr th:only-of-type {\n",
       "        vertical-align: middle;\n",
       "    }\n",
       "\n",
       "    .dataframe tbody tr th {\n",
       "        vertical-align: top;\n",
       "    }\n",
       "\n",
       "    .dataframe thead th {\n",
       "        text-align: right;\n",
       "    }\n",
       "</style>\n",
       "<table border=\"1\" class=\"dataframe\">\n",
       "  <thead>\n",
       "    <tr style=\"text-align: right;\">\n",
       "      <th></th>\n",
       "      <th>Age</th>\n",
       "      <th>Alcoholism</th>\n",
       "      <th>Delay</th>\n",
       "      <th>Diabetes</th>\n",
       "      <th>Gender_F</th>\n",
       "      <th>Gender_M</th>\n",
       "      <th>Handicap</th>\n",
       "      <th>Hypertension</th>\n",
       "      <th>Scholarship</th>\n",
       "      <th>noShow</th>\n",
       "      <th>smsReceived</th>\n",
       "    </tr>\n",
       "  </thead>\n",
       "  <tbody>\n",
       "    <tr>\n",
       "      <th>0</th>\n",
       "      <td>62</td>\n",
       "      <td>False</td>\n",
       "      <td>0</td>\n",
       "      <td>False</td>\n",
       "      <td>1</td>\n",
       "      <td>0</td>\n",
       "      <td>0</td>\n",
       "      <td>True</td>\n",
       "      <td>False</td>\n",
       "      <td>False</td>\n",
       "      <td>False</td>\n",
       "    </tr>\n",
       "    <tr>\n",
       "      <th>1</th>\n",
       "      <td>56</td>\n",
       "      <td>False</td>\n",
       "      <td>0</td>\n",
       "      <td>False</td>\n",
       "      <td>0</td>\n",
       "      <td>1</td>\n",
       "      <td>0</td>\n",
       "      <td>False</td>\n",
       "      <td>False</td>\n",
       "      <td>False</td>\n",
       "      <td>False</td>\n",
       "    </tr>\n",
       "    <tr>\n",
       "      <th>2</th>\n",
       "      <td>62</td>\n",
       "      <td>False</td>\n",
       "      <td>0</td>\n",
       "      <td>False</td>\n",
       "      <td>1</td>\n",
       "      <td>0</td>\n",
       "      <td>0</td>\n",
       "      <td>False</td>\n",
       "      <td>False</td>\n",
       "      <td>False</td>\n",
       "      <td>False</td>\n",
       "    </tr>\n",
       "    <tr>\n",
       "      <th>3</th>\n",
       "      <td>8</td>\n",
       "      <td>False</td>\n",
       "      <td>0</td>\n",
       "      <td>False</td>\n",
       "      <td>1</td>\n",
       "      <td>0</td>\n",
       "      <td>0</td>\n",
       "      <td>False</td>\n",
       "      <td>False</td>\n",
       "      <td>False</td>\n",
       "      <td>False</td>\n",
       "    </tr>\n",
       "    <tr>\n",
       "      <th>4</th>\n",
       "      <td>56</td>\n",
       "      <td>False</td>\n",
       "      <td>0</td>\n",
       "      <td>True</td>\n",
       "      <td>1</td>\n",
       "      <td>0</td>\n",
       "      <td>0</td>\n",
       "      <td>True</td>\n",
       "      <td>False</td>\n",
       "      <td>False</td>\n",
       "      <td>False</td>\n",
       "    </tr>\n",
       "  </tbody>\n",
       "</table>\n",
       "</div>"
      ],
      "text/plain": [
       "   Age  Alcoholism  Delay  Diabetes  Gender_F  Gender_M  Handicap  \\\n",
       "0   62       False      0     False         1         0         0   \n",
       "1   56       False      0     False         0         1         0   \n",
       "2   62       False      0     False         1         0         0   \n",
       "3    8       False      0     False         1         0         0   \n",
       "4   56       False      0      True         1         0         0   \n",
       "\n",
       "   Hypertension  Scholarship  noShow  smsReceived  \n",
       "0          True        False   False        False  \n",
       "1         False        False   False        False  \n",
       "2         False        False   False        False  \n",
       "3         False        False   False        False  \n",
       "4          True        False   False        False  "
      ]
     },
     "execution_count": 5,
     "metadata": {},
     "output_type": "execute_result"
    }
   ],
   "source": [
    "#Mostrar las primeras filas de resultantes del ABT PublishedABT.MLAppointmentsGetfeatures()\n",
    "dataSimple.head()"
   ]
  },
  {
   "cell_type": "code",
   "execution_count": 6,
   "metadata": {},
   "outputs": [
    {
     "data": {
      "text/html": [
       "<div>\n",
       "<style scoped>\n",
       "    .dataframe tbody tr th:only-of-type {\n",
       "        vertical-align: middle;\n",
       "    }\n",
       "\n",
       "    .dataframe tbody tr th {\n",
       "        vertical-align: top;\n",
       "    }\n",
       "\n",
       "    .dataframe thead th {\n",
       "        text-align: right;\n",
       "    }\n",
       "</style>\n",
       "<table border=\"1\" class=\"dataframe\">\n",
       "  <thead>\n",
       "    <tr style=\"text-align: right;\">\n",
       "      <th></th>\n",
       "      <th>Age</th>\n",
       "      <th>Alcoholism</th>\n",
       "      <th>Delay</th>\n",
       "      <th>Diabetes</th>\n",
       "      <th>Gender_F</th>\n",
       "      <th>Gender_M</th>\n",
       "      <th>Handicap</th>\n",
       "      <th>Hypertension</th>\n",
       "      <th>Neighborhood_AEROPORTO</th>\n",
       "      <th>Neighborhood_ANDORINHAS</th>\n",
       "      <th>...</th>\n",
       "      <th>Neighborhood_SAO_JOSE</th>\n",
       "      <th>Neighborhood_SAO_PEDRO</th>\n",
       "      <th>Neighborhood_SEGURANCA_DO_LAR</th>\n",
       "      <th>Neighborhood_SOLON_BORGES</th>\n",
       "      <th>Neighborhood_TABUAZEIRO</th>\n",
       "      <th>Neighborhood_UNIVERSITARIO</th>\n",
       "      <th>Neighborhood_VILA_RUBIM</th>\n",
       "      <th>Scholarship</th>\n",
       "      <th>noShow</th>\n",
       "      <th>smsReceived</th>\n",
       "    </tr>\n",
       "  </thead>\n",
       "  <tbody>\n",
       "    <tr>\n",
       "      <th>0</th>\n",
       "      <td>62</td>\n",
       "      <td>False</td>\n",
       "      <td>0</td>\n",
       "      <td>False</td>\n",
       "      <td>1</td>\n",
       "      <td>0</td>\n",
       "      <td>0</td>\n",
       "      <td>True</td>\n",
       "      <td>0</td>\n",
       "      <td>0</td>\n",
       "      <td>...</td>\n",
       "      <td>0</td>\n",
       "      <td>0</td>\n",
       "      <td>0</td>\n",
       "      <td>0</td>\n",
       "      <td>0</td>\n",
       "      <td>0</td>\n",
       "      <td>0</td>\n",
       "      <td>False</td>\n",
       "      <td>False</td>\n",
       "      <td>False</td>\n",
       "    </tr>\n",
       "    <tr>\n",
       "      <th>1</th>\n",
       "      <td>56</td>\n",
       "      <td>False</td>\n",
       "      <td>0</td>\n",
       "      <td>False</td>\n",
       "      <td>0</td>\n",
       "      <td>1</td>\n",
       "      <td>0</td>\n",
       "      <td>False</td>\n",
       "      <td>0</td>\n",
       "      <td>0</td>\n",
       "      <td>...</td>\n",
       "      <td>0</td>\n",
       "      <td>0</td>\n",
       "      <td>0</td>\n",
       "      <td>0</td>\n",
       "      <td>0</td>\n",
       "      <td>0</td>\n",
       "      <td>0</td>\n",
       "      <td>False</td>\n",
       "      <td>False</td>\n",
       "      <td>False</td>\n",
       "    </tr>\n",
       "    <tr>\n",
       "      <th>2</th>\n",
       "      <td>62</td>\n",
       "      <td>False</td>\n",
       "      <td>0</td>\n",
       "      <td>False</td>\n",
       "      <td>1</td>\n",
       "      <td>0</td>\n",
       "      <td>0</td>\n",
       "      <td>False</td>\n",
       "      <td>0</td>\n",
       "      <td>0</td>\n",
       "      <td>...</td>\n",
       "      <td>0</td>\n",
       "      <td>0</td>\n",
       "      <td>0</td>\n",
       "      <td>0</td>\n",
       "      <td>0</td>\n",
       "      <td>0</td>\n",
       "      <td>0</td>\n",
       "      <td>False</td>\n",
       "      <td>False</td>\n",
       "      <td>False</td>\n",
       "    </tr>\n",
       "    <tr>\n",
       "      <th>3</th>\n",
       "      <td>8</td>\n",
       "      <td>False</td>\n",
       "      <td>0</td>\n",
       "      <td>False</td>\n",
       "      <td>1</td>\n",
       "      <td>0</td>\n",
       "      <td>0</td>\n",
       "      <td>False</td>\n",
       "      <td>0</td>\n",
       "      <td>0</td>\n",
       "      <td>...</td>\n",
       "      <td>0</td>\n",
       "      <td>0</td>\n",
       "      <td>0</td>\n",
       "      <td>0</td>\n",
       "      <td>0</td>\n",
       "      <td>0</td>\n",
       "      <td>0</td>\n",
       "      <td>False</td>\n",
       "      <td>False</td>\n",
       "      <td>False</td>\n",
       "    </tr>\n",
       "    <tr>\n",
       "      <th>4</th>\n",
       "      <td>56</td>\n",
       "      <td>False</td>\n",
       "      <td>0</td>\n",
       "      <td>True</td>\n",
       "      <td>1</td>\n",
       "      <td>0</td>\n",
       "      <td>0</td>\n",
       "      <td>True</td>\n",
       "      <td>0</td>\n",
       "      <td>0</td>\n",
       "      <td>...</td>\n",
       "      <td>0</td>\n",
       "      <td>0</td>\n",
       "      <td>0</td>\n",
       "      <td>0</td>\n",
       "      <td>0</td>\n",
       "      <td>0</td>\n",
       "      <td>0</td>\n",
       "      <td>False</td>\n",
       "      <td>False</td>\n",
       "      <td>False</td>\n",
       "    </tr>\n",
       "  </tbody>\n",
       "</table>\n",
       "<p>5 rows × 92 columns</p>\n",
       "</div>"
      ],
      "text/plain": [
       "   Age  Alcoholism  Delay  Diabetes  Gender_F  Gender_M  Handicap  \\\n",
       "0   62       False      0     False         1         0         0   \n",
       "1   56       False      0     False         0         1         0   \n",
       "2   62       False      0     False         1         0         0   \n",
       "3    8       False      0     False         1         0         0   \n",
       "4   56       False      0      True         1         0         0   \n",
       "\n",
       "   Hypertension  Neighborhood_AEROPORTO  Neighborhood_ANDORINHAS  ...  \\\n",
       "0          True                       0                        0  ...   \n",
       "1         False                       0                        0  ...   \n",
       "2         False                       0                        0  ...   \n",
       "3         False                       0                        0  ...   \n",
       "4          True                       0                        0  ...   \n",
       "\n",
       "   Neighborhood_SAO_JOSE  Neighborhood_SAO_PEDRO  \\\n",
       "0                      0                       0   \n",
       "1                      0                       0   \n",
       "2                      0                       0   \n",
       "3                      0                       0   \n",
       "4                      0                       0   \n",
       "\n",
       "   Neighborhood_SEGURANCA_DO_LAR  Neighborhood_SOLON_BORGES  \\\n",
       "0                              0                          0   \n",
       "1                              0                          0   \n",
       "2                              0                          0   \n",
       "3                              0                          0   \n",
       "4                              0                          0   \n",
       "\n",
       "   Neighborhood_TABUAZEIRO  Neighborhood_UNIVERSITARIO  \\\n",
       "0                        0                           0   \n",
       "1                        0                           0   \n",
       "2                        0                           0   \n",
       "3                        0                           0   \n",
       "4                        0                           0   \n",
       "\n",
       "   Neighborhood_VILA_RUBIM  Scholarship  noShow  smsReceived  \n",
       "0                        0        False   False        False  \n",
       "1                        0        False   False        False  \n",
       "2                        0        False   False        False  \n",
       "3                        0        False   False        False  \n",
       "4                        0        False   False        False  \n",
       "\n",
       "[5 rows x 92 columns]"
      ]
     },
     "execution_count": 6,
     "metadata": {},
     "output_type": "execute_result"
    }
   ],
   "source": [
    "dataLarge.head()\n",
    "#dataLarge.info(memory_usage='deep')"
   ]
  },
  {
   "cell_type": "markdown",
   "metadata": {},
   "source": [
    "<H2>Algorithmos</H2>"
   ]
  },
  {
   "cell_type": "code",
   "execution_count": 7,
   "metadata": {},
   "outputs": [],
   "source": [
    "#Extraer nombre de caracterisicas para uso posterior (p.e Arbol de decision XGBoost )\n",
    "featuresSimple=list(dataSimple.columns)\n",
    "featuresSimple.remove('noShow')"
   ]
  },
  {
   "cell_type": "code",
   "execution_count": 8,
   "metadata": {},
   "outputs": [],
   "source": [
    "#Extracción de las Caracteristicas (en X) y del Resultado (columna \"noShow\" en y) como arrays numpy...\n",
    "XSimple = dataSimple.loc[:, dataSimple.columns.isin(featuresSimple)].values\n",
    "ySimple = dataSimple.loc[:, 'noShow'].values"
   ]
  },
  {
   "cell_type": "code",
   "execution_count": 9,
   "metadata": {},
   "outputs": [],
   "source": [
    "#Extracción de las Caracteristicas (en X) y del Resultado (columna \"noShow\" en y) como arrays numpy...\n",
    "XLarge = dataLarge.loc[:, ~dataLarge.columns.isin(['noShow'])].values\n",
    "yLarge = dataLarge.loc[:, 'noShow'].values"
   ]
  },
  {
   "cell_type": "code",
   "execution_count": 10,
   "metadata": {},
   "outputs": [],
   "source": [
    "#Se separan los datos (110 000 filas) en 2 conjuntos: Train para entrenar,\n",
    "# y test para validar los resultados del algoritmo\n",
    "# 0.2 => 20% para test\n",
    "XSimple_train, XSimple_test, ySimple_train, ySimple_test = train_test_split(XSimple, ySimple, test_size = 0.2, random_state=42) "
   ]
  },
  {
   "cell_type": "code",
   "execution_count": 11,
   "metadata": {},
   "outputs": [],
   "source": [
    "#Se separan los datos (110 000 filas) en 2 conjuntos: Train para entrenar,\n",
    "# y test para validar los resultados del algoritmo\n",
    "# 0.2 => 20% para test\n",
    "XLarge_train, XLarge_test, yLarge_train, yLarge_test = train_test_split(XLarge, yLarge, test_size = 0.2, random_state=42) "
   ]
  },
  {
   "cell_type": "markdown",
   "metadata": {},
   "source": [
    "<H3>ABT con 11 caracteristicas y Regression Logistica</H3>"
   ]
  },
  {
   "cell_type": "code",
   "execution_count": 12,
   "metadata": {},
   "outputs": [
    {
     "data": {
      "text/plain": [
       "LogisticRegressionCV(Cs=10, class_weight=None, cv=10, dual=False,\n",
       "                     fit_intercept=True, intercept_scaling=1.0, l1_ratios=None,\n",
       "                     max_iter=200, multi_class='ovr', n_jobs=-1, penalty='l2',\n",
       "                     random_state=None, refit=True, scoring='f1',\n",
       "                     solver='lbfgs', tol=0.0001, verbose=0)"
      ]
     },
     "execution_count": 12,
     "metadata": {},
     "output_type": "execute_result"
    }
   ],
   "source": [
    "#Entrenamiento del Algoritmo Regresión Logistica, con \"cross validation\"\n",
    "model1 = LogisticRegressionCV(n_jobs=-1, cv=10, max_iter=200, scoring = 'f1', multi_class='ovr')\n",
    "model1.fit(XSimple_train, ySimple_train)"
   ]
  },
  {
   "cell_type": "code",
   "execution_count": 13,
   "metadata": {},
   "outputs": [
    {
     "data": {
      "text/plain": [
       "0.6692120126514991"
      ]
     },
     "execution_count": 13,
     "metadata": {},
     "output_type": "execute_result"
    }
   ],
   "source": [
    "# ROC AUC es pobre 0.65\n",
    "metrics.roc_auc_score(ySimple_test,model1.predict_proba(XSimple_test)[:,1])"
   ]
  },
  {
   "cell_type": "markdown",
   "metadata": {},
   "source": [
    "<H3>ABT con 110 caracteristicas y Regression Logistica</H3>"
   ]
  },
  {
   "cell_type": "code",
   "execution_count": 14,
   "metadata": {},
   "outputs": [
    {
     "name": "stderr",
     "output_type": "stream",
     "text": [
      "[Parallel(n_jobs=-1)]: Using backend LokyBackend with 4 concurrent workers.\n",
      "[Parallel(n_jobs=-1)]: Done   2 out of   4 | elapsed:    1.0s remaining:    1.0s\n",
      "[Parallel(n_jobs=-1)]: Done   4 out of   4 | elapsed:    1.1s finished\n"
     ]
    },
    {
     "data": {
      "text/plain": [
       "LogisticRegressionCV(Cs=10, class_weight=None, cv=4, dual=False,\n",
       "                     fit_intercept=True, intercept_scaling=1.0, l1_ratios=None,\n",
       "                     max_iter=1000, multi_class='ovr', n_jobs=-1, penalty='l2',\n",
       "                     random_state=None, refit=True, scoring='f1',\n",
       "                     solver='lbfgs', tol=0.0001, verbose=1)"
      ]
     },
     "execution_count": 14,
     "metadata": {},
     "output_type": "execute_result"
    }
   ],
   "source": [
    "#Entrenamiento del Algoritmo Regresión Logistica, con \"cross validation\"\n",
    "model2 = LogisticRegressionCV(n_jobs=-1, cv=4, max_iter=1000, scoring = 'f1', multi_class='ovr',verbose=1)\n",
    "model2.fit(XLarge_train, yLarge_train)"
   ]
  },
  {
   "cell_type": "code",
   "execution_count": 15,
   "metadata": {},
   "outputs": [
    {
     "data": {
      "text/plain": [
       "0.6748511904761905"
      ]
     },
     "execution_count": 15,
     "metadata": {},
     "output_type": "execute_result"
    }
   ],
   "source": [
    "# ROC AUC esta mejor \n",
    "metrics.roc_auc_score(yLarge_test,model2.predict_proba(XLarge_test)[:,1])"
   ]
  },
  {
   "cell_type": "markdown",
   "metadata": {},
   "source": [
    "<H3>XGBoost</H3>"
   ]
  },
  {
   "cell_type": "code",
   "execution_count": 16,
   "metadata": {},
   "outputs": [
    {
     "data": {
      "text/plain": [
       "XGBClassifier(base_score=0.5, booster='gbtree', colsample_bylevel=1,\n",
       "              colsample_bynode=1, colsample_bytree=1, gamma=0,\n",
       "              learning_rate=0.1, max_delta_step=0, max_depth=3,\n",
       "              min_child_weight=1, missing=None, n_estimators=100, n_jobs=1,\n",
       "              nthread=8, objective='binary:logistic', random_state=0,\n",
       "              reg_alpha=0, reg_lambda=1, scale_pos_weight=1, seed=None,\n",
       "              silent=None, subsample=1, verbosity=1)"
      ]
     },
     "execution_count": 16,
     "metadata": {},
     "output_type": "execute_result"
    }
   ],
   "source": [
    "#XGBoost\n",
    "#Splitting the Dataset for XGBoost, where we can use another structure and retain features names\n",
    "dfSimpleX_train, dfSimpleX_test, dfSimpley_train, dfSimpley_test = train_test_split(dataSimple[featuresSimple], dataSimple['noShow'],test_size=0.2, random_state=42)\n",
    "#print (dfSimpleX_train.shape)\n",
    "#dfSimpleX_train.head()\n",
    "\n",
    "model3 = XGBClassifier(nthread=8)\n",
    "model3.fit(dfSimpleX_train, dfSimpley_train)"
   ]
  },
  {
   "cell_type": "code",
   "execution_count": 17,
   "metadata": {},
   "outputs": [
    {
     "data": {
      "text/plain": [
       "0.7340584879735728"
      ]
     },
     "execution_count": 17,
     "metadata": {},
     "output_type": "execute_result"
    }
   ],
   "source": [
    "# we have a decent AUC of 0.726 \n",
    "metrics.roc_auc_score(dfSimpley_test,model3.predict_proba(dfSimpleX_test)[:,1])"
   ]
  },
  {
   "cell_type": "markdown",
   "metadata": {},
   "source": [
    "<H3>Comparación de los 3 modelos</H3>"
   ]
  },
  {
   "cell_type": "code",
   "execution_count": 18,
   "metadata": {},
   "outputs": [
    {
     "data": {
      "image/png": "[encoded data removed]",
      "text/plain": [
       "<Figure size 432x288 with 1 Axes>"
      ]
     },
     "metadata": {
      "needs_background": "light"
     },
     "output_type": "display_data"
    }
   ],
   "source": [
    "y1_pred_prob=model1.predict_proba(XSimple_test)[:,1]\n",
    "y2_pred_prob=model2.predict_proba(XLarge_test)[:,1]\n",
    "y3_pred_prob=model3.predict_proba(dfSimpleX_test)[:,1]\n",
    "\n",
    "# Generate ROC curve values: fpr, tpr, thresholds\n",
    "fpr1, tpr1, thresholds1 = roc_curve(ySimple_test, y1_pred_prob)\n",
    "fpr2, tpr2, thresholds2 = roc_curve(yLarge_test, y2_pred_prob)\n",
    "fpr3, tpr3, thresholds3 = roc_curve(dfSimpley_test, y3_pred_prob)\n",
    "\n",
    "# Plot ROC curve\n",
    "plt.plot([0, 1], [0, 1], 'k--')\n",
    "plt.plot(fpr1, tpr1,\"C1\",label=\"Lg11\")\n",
    "plt.plot(fpr2, tpr2,\"C2\",label=\"Lg110\")\n",
    "plt.plot(fpr3, tpr3,\"C3\",label=\"XGBoost\")\n",
    "\n",
    "plt.xlabel('False Positive Rate')\n",
    "plt.ylabel('True Positive Rate')\n",
    "plt.title('ROC Curve- LogRegs vs XGBoost')\n",
    "plt.legend()\n",
    "plt.show()"
   ]
  },
  {
   "cell_type": "markdown",
   "metadata": {},
   "source": [
    "<H3>Detalles de XGBoost</H3>"
   ]
  },
  {
   "cell_type": "code",
   "execution_count": 19,
   "metadata": {
    "scrolled": false
   },
   "outputs": [
    {
     "data": {
      "text/plain": [
       "<matplotlib.axes._subplots.AxesSubplot at 0x7f76804c3a20>"
      ]
     },
     "execution_count": 19,
     "metadata": {},
     "output_type": "execute_result"
    },
    {
     "data": {
      "image/png": "[encoded data removed]",
      "text/plain": [
       "<Figure size 432x288 with 1 Axes>"
      ]
     },
     "metadata": {
      "needs_background": "light"
     },
     "output_type": "display_data"
    }
   ],
   "source": [
    "import xgboost\n",
    "xgboost.plot_importance(model3, max_num_features=20)"
   ]
  },
  {
   "cell_type": "markdown",
   "metadata": {},
   "source": [
    "<H3>Pruebas Varias</H3>"
   ]
  },
  {
   "cell_type": "markdown",
   "metadata": {},
   "source": [
    "sc.stop()\n",
    "conf = SparkConf().setAppName(\"App\")\n",
    "conf = (conf.setMaster('local[*]')\n",
    "        .set('spark.executor.memory', '3G')\n",
    "        .set('spark.driver.memory', '3G')\n",
    "        .set('spark.driver.maxResultSize', '3G'))\n",
    "sc = SparkContext(conf=conf)"
   ]
  },
  {
   "cell_type": "markdown",
   "metadata": {},
   "source": [
    "<H2>Carga de Datos con Spark<H2>"
   ]
  },
  {
   "cell_type": "code",
   "execution_count": null,
   "metadata": {},
   "outputs": [],
   "source": [
    "#\"ALL\", \"DEBUG\", \"ERROR\", \"FATAL\", \"INFO\", \"OFF\", \"TRACE\", \"WARN\"\n",
    "sc.setLogLevel(\"INFO\")\n",
    "spark.conf.set(\"spark.sql.execution.arrow.maxRecordsPerBatch\",\"80\")"
   ]
  },
  {
   "cell_type": "code",
   "execution_count": null,
   "metadata": {},
   "outputs": [],
   "source": [
    "sc._conf.getAll()"
   ]
  },
  {
   "cell_type": "code",
   "execution_count": null,
   "metadata": {},
   "outputs": [],
   "source": [
    "#Carga del Modelo 'Abstract Base Table en un Spark DataFrame\n",
    "#sp_dfSimple=spark.read.format(\"com.intersystems.spark\").\\\n",
    "sp_dfSimple=spark.read.format(\"iris\").\\\n",
    "option(\"url\", \"IRIS://iris4ml:51773/MLACADEMY\").option(\"user\", \"SuperUser\").\\\n",
    "option(\"password\", \"sys\").\\\n",
    "option(\"query\", \"PublishedABT.MLSimpleAppointmentsGetfeatures()\").load().limit(20000) "
   ]
  },
  {
   "cell_type": "code",
   "execution_count": null,
   "metadata": {},
   "outputs": [],
   "source": [
    "#Carga del Modelo 'Abstract Base Table en un Spark DataFrame\n",
    "#sp_dfLarge=spark.read.format(\"com.intersystems.spark\").\\\n",
    "sp_dfLarge=spark.read.format(\"iris\").\\\n",
    "option(\"url\", \"IRIS://iris4ml:51773/MLACADEMY\").option(\"user\", \"SuperUser\").\\\n",
    "option(\"password\", \"sys\").\\\n",
    "option(\"query\", \"PublishedABT.MLAppointmentsGetfeatures()\").load().limit(20000) "
   ]
  },
  {
   "cell_type": "code",
   "execution_count": null,
   "metadata": {},
   "outputs": [],
   "source": [
    "#Mostrar las columnas de caracteristicas y la columna de resultado (Classification == Presente/Ausente) \n",
    "#sp_dfSimple.printSchema()\n",
    "sp_dfLarge.printSchema()"
   ]
  },
  {
   "cell_type": "code",
   "execution_count": null,
   "metadata": {},
   "outputs": [],
   "source": [
    "#spark.conf.set(\"spark.sql.execution.arrow.maxRecordsPerBatch\",\"50\")"
   ]
  },
  {
   "cell_type": "code",
   "execution_count": null,
   "metadata": {},
   "outputs": [],
   "source": [
    "# Enable Arrow-based columnar data transfers\n",
    "spark.conf.set(\"spark.sql.execution.arrow.enabled\", \"true\")\n",
    "# Convert the Spark DataFrame back to a Pandas DataFrame using Arrow\n",
    "# ((Nota: requiere fechas como TimeStamp (no funciona bien con Dates) ))\n",
    "dataSimple = sp_dfSimple.select(\"*\").toPandas()\n",
    "# data.drop(['ID'],axis=1,inplace=True)  #Eliminamos las columnas de ID, no sirven para determinar el resultado"
   ]
  },
  {
   "cell_type": "code",
   "execution_count": null,
   "metadata": {},
   "outputs": [],
   "source": [
    "# Enable Arrow-based columnar data transfers\n",
    "spark.conf.set(\"spark.sql.execution.arrow.enabled\", \"true\")\n",
    "# Convert the Spark DataFrame back to a Pandas DataFrame using Arrow\n",
    "# ((Nota: requiere fechas como TimeStamp (no funciona bien con Dates) ))\n",
    "dataLarge = sp_dfLarge.select(\"*\").toPandas()\n",
    "# data.drop(['ID'],axis=1,inplace=True)  #Eliminamos las columnas de ID, no sirven para determinar el resultado"
   ]
  }
 ],
 "metadata": {
  "kernelspec": {
   "display_name": "Python 3",
   "language": "python",
   "name": "python3"
  },
  "language_info": {
   "codemirror_mode": {
    "name": "ipython",
    "version": 3
   },
   "file_extension": ".py",
   "mimetype": "text/x-python",
   "name": "python",
   "nbconvert_exporter": "python",
   "pygments_lexer": "ipython3",
   "version": "3.6.9"
  }
 },
 "nbformat": 4,
 "nbformat_minor": 4
}
